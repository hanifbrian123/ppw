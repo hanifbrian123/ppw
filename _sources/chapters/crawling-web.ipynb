{
 "cells": [
  {
   "cell_type": "markdown",
   "id": "08e7c8d9",
   "metadata": {},
   "source": [
    "# Crawling"
   ]
  },
  {
   "cell_type": "markdown",
   "id": "8e74e12f",
   "metadata": {},
   "source": [
    "## Crawling jurnal springer nature"
   ]
  },
  {
   "cell_type": "markdown",
   "id": "87d2d164",
   "metadata": {},
   "source": [
    "### keyword: web mining"
   ]
  },
  {
   "cell_type": "code",
   "execution_count": null,
   "id": "beb87e31",
   "metadata": {},
   "outputs": [],
   "source": [
    "# !pip install springernature-api-client"
   ]
  },
  {
   "cell_type": "code",
   "execution_count": null,
   "id": "d3304405",
   "metadata": {},
   "outputs": [
    {
     "name": "stderr",
     "output_type": "stream",
     "text": [
      "2025-08-28 10:47:35,479 - INFO - Making request to: https://api.springernature.com/openaccess/json with params: {'q': 'keyword:\"web mining\"', 'p': 20, 's': 1, 'api_key': '4547aeced20ed62be02d26e533f1021a'}\n"
     ]
    },
    {
     "name": "stdout",
     "output_type": "stream",
     "text": [
      "Fetching openaccess: query='keyword:\"web mining\"', page=20, start=1\n"
     ]
    }
   ],
   "source": [
    "try:\n",
    "    import springernature_api_client.openaccess as openaccess\n",
    "    from springernature_api_client.utils import results_to_dataframe\n",
    "\n",
    "    openaccess_client = openaccess.OpenAccessAPI(api_key=\"\")\n",
    "    response = openaccess_client.search(q='keyword:\"web mining\"', p=20, s=1, fetch_all=False, is_premium=False)\n",
    "except ModuleNotFoundError:\n",
    "    pass\n"
   ]
  },
  {
   "cell_type": "code",
   "execution_count": 15,
   "id": "785ae33d",
   "metadata": {},
   "outputs": [
    {
     "name": "stdout",
     "output_type": "stream",
     "text": [
      "DOI: doi:10.1007/s41060-023-00483-9\n",
      "Title: Artificial intelligence trend analysis in German business and politics: a web mining approach\n",
      "Abstract: {'h1': 'Abstract', 'p': 'Current research on trend detection in artificial intelligence (AI) mainly concerns academic data sources and industrial applications of AI. However, we argue that industrial trends are influenced by public perception and political decisions (e.g., through industry subsidies and grants) and should be reflected in political data sources. To investigate this hypothesis, we examine the AI trend development in German business and politics from 1998 to 2020. Therefore, we propose a web mining approach to collect a novel data set consisting of business and political data sources combining 1.07 million articles and documents. We identify 246 AI-related buzzwords extracted from various glossaries. We use them to conduct an extensive trend detection and analysis study on the collected data using machine learning-based approaches. This study successfully detects an AI trend and follows its evolution in business and political data sources over the past two decades. Moreover, we find a faster adoption of AI in business than in politics, with a considerable increase in policy discourse in recent years. Finally, we show that the collected data can be used for trend detection besides AI-related topics using topic clustering and the COVID-19 pandemic as examples.'}\n",
      "\n",
      "DOI: doi:10.1007/s11135-024-01978-8\n",
      "Title: Information diffusion in referral networks: an empirical investigation of the crypto asset landscape\n",
      "Abstract: {'h1': 'Abstract', 'p': 'In the last decades, crypto assets have become particularly popular in financial markets. However, public awareness of the crypto asset landscape is rather limited, and usually associated with sensationalized media coverage of a handful of cryptocurrencies. Moreover, while users of crypto assets primarily collect information on Internet, there is a limited understanding of the relational (online) structures supporting the diffusion of information about these financial products. Therefore, the aim of this study is to uncover the structure of online information referral networks dedicated to crypto assets. By adopting a multi-method approach consisting of web scraping, web analytics, and social network analysis, we use data from the top 200 crypto assets by market capitalization to identify pivotal websites and the overall connectedness of the information referral networks. Our results show that social media and news channel sites play a key role in the information diffusion process, while market and trading sites signal innovation adoption. Overall, cryptocurrencies’ websites do not seem key in the referral network, as opposed to social media websites which, however, cannot be considered mature hubs because of their low connectivity.'}\n",
      "\n",
      "DOI: doi:10.1007/s41060-024-00695-7\n",
      "Title: Mapping sustainable development goals to citizen science projects–a comparative evaluation of automatic classifiers\n",
      "Abstract: {'h1': 'Abstract', 'p': 'Traditional data sources provide insufficient knowledge for measuring the United Nations Sustainable Development Goals (SDGs). Data related to SDGs are sourced primarily from global databases maintained by international organizations, national statistical offices and other government agencies. Recent studies show the value of using data from Citizen Science (CS) for assessing the SDGs. There is an important online presence of CS programs, professional networks for CS and online communities of citizen scientists, leading to the generation of several CS platforms. In this context, the role of computational data science is key. This paper explores and exemplifies opportunities for combining web-data mining techniques and automatic classifiers to enhance the understanding of the inter-relation between CS and the SDGs. An analysis of different automatic classifiers is presented by comparing the results obtained from their application in a sample of 208 CS project descriptions. The results of this study indicate the benefits and limitations of these techniques (nCoder, ESA, OSDG and BERT), but also provides a discussion of the potential benefits of using data from CS projects to map the 17 SDGs.'}\n",
      "\n",
      "DOI: doi:10.1007/s13132-023-01587-0\n",
      "Title: Measuring Innovation in Mauritius’ ICT Sector\n",
      "            Using Unsupervised Machine Learning: A Web Mining and Topic Modeling\n",
      "            Approach\n",
      "Abstract: {'h1': 'Abstract', 'p': 'Measuring innovation accurately and efficiently is crucial for policymakers to encourage innovation activity. However, the established indicator landscape lacks timeliness and accuracy. In this study, we focus on the country of Mauritius that is transforming its economy towards the information and communication technology (ICT) sector. We seek to extend the knowledge base on innovation activity and the status quo of innovation in Mauritius by applying an unsupervised machine learning approach. Building on previous work on new experimental innovation indicators, we combine recent advances in web mining and topic modeling and address the following research questions: What are potential areas of innovation activity in the ICT sector of Mauritius? Furthermore, do web mining and topic modeling provide sufficient indicators to understand innovation activities in emerging countries? To answer these questions, we apply the natural language processing (NLP) technique of Latent Dirichlet Allocation (LDA) to ICT companies’ website text data. We then generate topic models from the scraped text data. As a result, we derive seven categories that describe the innovation activities of ICT firms in Mauritius. Albeit the model approach fulfills the requirements for innovation indicators as suggested in the Oslo Manual, it needs to be combined with additional metrics for innovation, for example, with traditional indicators such as patents, to unfold its potential. Furthermore, our approach carries methodological implications and is intended to be reproduced in similar contexts of scarce or unavailable data or where traditional metrics have demonstrated insufficient explanatory power.'}\n",
      "\n",
      "DOI: doi:10.1007/s12065-023-00878-4\n",
      "Title: Artificial intelligence trend analysis on healthcare podcasts using topic modeling and sentiment analysis: a data-driven approach\n",
      "Abstract: {'h1': 'Abstract', 'p': 'Over the past few decades, the topic of artificial intelligence (AI) has gained considerable attention in both research and industry. In particular, the healthcare sector has witnessed a surge in the use of AI applications, as the maturity of these methods increased. However, as the use of machine learning (ML) in healthcare continues to grow, we believe it will become increasingly important to examine public perceptions of this trend to identify potential impediments and future directions. Current work focuses mainly on academic data sources and industrial applications of AI. However, to gain a comprehensive understanding of the increased societal interest in AI, digital media such as podcasts should be consulted, as they are accessible to a broader audience. In order to examine this hypothesis, we investigate the AI trend development in healthcare from 2015 until 2021. In this study, we propose a web mining approach to collect a novel data set consisting of 29 healthcare podcasts with 3449 episodes. We identify 102 AI-related buzzwords that were extracted from various glossaries and hype cycles. These buzzwords were used to conduct an extensive trend detection and analysis study on the collected data using machine learning-based approaches. We successfully detect an AI trend and follow its evolution in healthcare podcasts over several years. Besides the focus area of AI, we are able to detect 14 topic clusters and visualize the trending or decreasing dominant topics over the whole period under consideration. In addition, we analyze the sentiments in podcasts towards the identified topics and deliver further insights for trend detection in healthcare. Finally, the collected data set can be used for trend detection besides AI-related topics using topic clustering.'}\n",
      "\n",
      "DOI: doi:10.1140/epjds/s13688-024-00491-0\n",
      "Title: Measuring corporate digital divide through websites: insights from Italian firms\n",
      "Abstract: {'h1': 'Abstract', 'p': 'With the increasing pervasiveness of Information and Communication Technology (ICT) in the fabric of economic activities, the corporate digital divide has become a crucial issue for the assessment of Information Technology (IT) competencies and the digital gap between firms and territories. With little granular data available to measure the phenomenon, most studies have used survey data. To address this empirical gap, we scanned the homepages of 182,705 Italian companies and extracted ten characteristics related to their digital footprint to develop a new index for the corporate digital assessment. Our results show a significant digital divide between Italian companies according to size, sector and geographical location, opening new perspectives for monitoring and data-driven analysis.'}\n",
      "\n",
      "DOI: doi:10.1007/s41109-024-00638-y\n",
      "Title: Local 2-connected bow-tie structure of the Web and of social networks\n",
      "Abstract: {'h1': 'Abstract', 'p': 'The explosive growth of the Web and of social networks motivates the need for analyzing the macroscopic structure of their underlying graphs. Although the characterization of the structure of a graph with respect to its pairwise connectivity has been known for over 15 years, just one subsequent study analyzed the world inside the giant strongly connected component, where it has been shown that the largest strongly connected component has its own microscopic bow-tie structure defined with respect to pairwise 2-connectivity among its vertices. In this paper, we introduce the local microscopic bow-tie structure of the largest strongly connected component, demonstrating its self-similarity property. Our experiments, conducted on the several Web graphs and social networks demonstrate clear structural differences between considered Web and social networks.'}\n",
      "\n",
      "DOI: doi:10.1007/s13278-024-01212-1\n",
      "Title: Structural complexity predicts consensus readability in online discussions\n",
      "Abstract: {'h1': 'Abstract', 'p': 'The intricate relationship between structure and function spans various disciplines, from biology to management, offering insights into predicting interesting features of complex systems. This interplay is evident in online forums, where the organization of the threads interacts with the message’s meaning. Assessing readability in these discussions is vital for ensuring information comprehension among diverse audiences. This assessment is challenging due to the complexity of natural language compounded by the social and temporal dynamics within social networks. One practical approach involves aggregating multiple readability metrics as a consensus alignment. In this study, we explore whether the structural complexity of online discussions can predict consensus readability without delving into the semantics of the messages. We propose a consensus readability metric derived from well-known readability tests and a complexity metric applied to the tree structures of Reddit discussions. Our findings indicate that this proposed metric effectively predicts consensus readability based on the complexity of discourse structure.'}\n",
      "\n",
      "DOI: doi:10.1007/978-3-031-26438-2_23\n",
      "Title: Graph-Based Diffusion Method for Top-N Recommendation\n",
      "Abstract: {'h1': 'Abstract', 'p': 'Data that may be used for personalised recommendation purposes can intuitively be modelled as a graph. Users can be linked to item data; item data may be linked to item data. With such a model, the task of recommending new items to users or making new connections between items can be undertaken by algorithms designed to establish the relatedness between vertices in a graph. One such class of algorithm is based on the random walk, whereby a sequence of connected vertices are visited based on an underlying probability distribution and a determination of vertex relatedness established. A diffusion kernel encodes such a process. This paper demonstrates several diffusion kernel approaches on a graph composed of user-item and item-item relationships. The approach presented in this paper, RecWalk* , consists of a user-item bipartite combined with an item-item graph on which several diffusion kernels are applied and evaluated in terms of top-n recommendation . We conduct experiments on several datasets of the RecWalk* model using combinations of different item-item graph models and personalised diffusion kernels. We compare accuracy with some non-item recommender methods. We show that diffusion kernel approaches match or outperform state-of-the-art recommender approaches.'}\n",
      "\n",
      "DOI: doi:10.1007/s11416-022-00420-7\n",
      "Title: MinerAlert: an hybrid approach for web mining detection\n",
      "Abstract: {'h1': 'Abstract', 'p': 'The introduction of new memory-based crypto-mining techniques and the rise of new web technologies like WebAssembly, made the use of browsers for crypto-currencies mining more and more convenient and popular. That, in turn, originated a new form of computer piracy, called cryptojacking, which is rapidly gaining ground on the web. A cryptojacking site exploits its visitors’ hardware resources to secretly mine crypto-currencies. This paper analyzes current web-based cryptojacking detection methods in order to propose a novel hybrid strategy. Current detection methods are found to require either considerable computer administration skills or execution privileges usually not available to common users. In this view, a method, named MinerAlert, has been designed and proposed, aiming at detecting in real-time sites performing cryptojacking. To address the limitations of current methods, the method implementation has been achieved through a browser extension. The present paper describes the method’s details and its implementation. It also reports the experimental results of its utilization, showing its positive performances in terms of ease of use, successful detections and speed.'}\n",
      "\n",
      "DOI: doi:10.1007/s40593-020-00231-1\n",
      "Title: Keeping Up with the Trends: Analyzing the Dynamics of Online Learning and Hiring Platforms in the Software Programming Domain\n",
      "Abstract: {'h1': 'Abstract', 'p': 'The Fourth Industrial Revolution has considerably sped up the pace of skill changes in many professional domains, with scores of new skills emerging and many old skills moving towards obsolescence. For these domains, identifying the new necessary skills in a timely manner is a difficult task, where existing methods are inadequate. Understanding the process, by which these new skills and technologies appear in and diffuse through a professional domain, could give training providers more time to identify these new skills and react. For this purpose, in the present work, we look at the dynamics between online learning platforms and online hiring platforms in the software programming profession, a rapidly evolving domain. To do so, we fuse four data sources together: Stack Overflow, an online community questions and answers (Q&A) platform; Google Trends, which provides online search trends from Google; Udemy, a platform offering skill-based Massively Open Online Courses (MOOCs) where anyone can create courses; and Stack Overflow Jobs, a job ad platform. We place these platforms along two axes: i) how much expertise it takes, on average, to create content on them, and ii) whether, in general, the decision to create content on them is made by individuals or by groups. Our results show that the topics under study have a systematic tendency to appear earlier on platforms where content creation requires (on average) less expertise and is done more individually, rather than by groups: Stack Overflow is found to be more agile than Udemy, which is itself more agile than Stack Overflow Jobs (Google Trends did not prove usable due to extreme data sparsity). However, our results also show that this tendency is not present for all new skills, and that the software programming profession as a whole is remarkably agile: there are usually only a few months between the first Stack Overflow appearance of a new topic, and its first appearance on Udemy or Stack Overflow Jobs. In addition, we find that Udemy’s agility has dramatically increased over time. Our novel methodology is able to provide valuable insights into the dynamics between online education and job ad platforms, enabling training program creators to look at said dynamics for various topics and to understand the pace of change. This allows them to maintain better awareness of the trends and to prioritize their attention, both on the right topics and on the right platforms.'}\n",
      "\n",
      "DOI: doi:10.1007/s12530-020-09335-4\n",
      "Title: Handling of advanced persistent threats and complex incidents in healthcare, transportation and energy ICT infrastructures\n",
      "Abstract: {'h1': 'Abstract', 'p': 'In recent years, the use of information technologies in Critical Infrastructures is gradually increasing. Although this brings benefits, it also increases the possibility of security attacks. Despite the availability of various advanced incident handling techniques and tools, there is still no easy, structured, standardized and trusted way to manage and forecast interrelated cybersecurity incidents. This paper introduces CyberSANE, a novel dynamic and collaborative, warning and response system, which supports security officers and operators to recognize, identify, dynamically analyse, forecast, treat and respond to security threats and risks and and it guides them to handle effectively cyber incidents. The components of CyberSANE are described along with a description of the CyberSANE data flow. The main novelty of the CyberSANE system is the fact that it enables the combination of active incident handling approaches with reactive approaches to support incidents of compound, highly dependent Critical Information Infrastructures. The benefits and added value of using CyberSANE is described with the aid of a set of cyber-attack scenarios.'}\n",
      "\n",
      "DOI: doi:10.1007/s11192-020-03726-9\n",
      "Title: Web mining for innovation ecosystem mapping: a framework and a large-scale pilot study\n",
      "Abstract: {'h1': 'Abstract', 'p': 'Existing approaches to model innovation ecosystems have been mostly restricted to qualitative and small-scale levels or, when relying on traditional innovation indicators such as patents and questionnaire-based survey, suffered from a lack of timeliness, granularity, and coverage. Websites of firms are a particularly interesting data source for innovation research, as they are used for publishing information about potentially innovative products, services, and cooperation with other firms. Analyzing the textual and relational content on these websites and extracting innovation-related information from them has the potential to provide researchers and policy-makers with a cost-effective way to survey millions of businesses and gain insights into their innovation activity, their cooperation, and applied technologies. For this purpose, we propose a web mining framework for consistent and reproducible mapping of innovation ecosystems. In a large-scale pilot study we use a database with 2.4\\xa0million German firms to test our framework and explore firm websites as a data source. Thereby we put particular emphasis on the investigation of a potential bias when surveying innovation systems through firm websites if only certain firm types can be surveyed using our proposed approach. We find that the availability of a websites and the characteristics of the website (number of subpages and hyperlinks, text volume, language used) differs according to firm size, age, location, and sector. We also find that patenting firms will be overrepresented in web mining studies. Web mining as a survey method also has to cope with extremely large and hyper-connected outlier websites and the fact that low broadband availability appears to prevent some firms from operating their own website and thus excludes them from web mining analysis. We then apply the proposed framework to map an exemplary innovation ecosystem of Berlin-based firms that are engaged in artificial intelligence. Finally, we outline several approaches how to transfer firm website content into valuable innovation indicators.'}\n",
      "\n",
      "DOI: doi:10.1007/s40595-016-0082-0\n",
      "Title: Authority estimation within social networks using regression analysis\n",
      "Abstract: {'h1': 'Abstract', 'p': 'This paper focuses on methods of machine learning, particularly on regression analysis to solve a problem of authority identification within social networks. Within this paper, linear, polynomial, and non-linear regression types were considered. The aim was to find an approximation of dependency of the authority value on variables representing parameters of the structure and particularly the content of selected web discussions. The approximation function can be used at first for computation of the authority value of a given discussant, at second, for discrimination of an authoritative discussant from non-authoritative contributors to the web discussion. This information is important for web users, who search for truthful and reliable information in the process of decision making about important things. The web users would like to be influenced by some credible professionals. The various regression methods were tested, particularly linear, polynomial, and non-linear regression models. The best solution was implemented in the Application for the Machine Authority Identification.'}\n",
      "\n",
      "DOI: doi:10.1186/s13174-016-0053-9\n",
      "Title: A framework for identifying the linkability between Web servers for enhanced internet computing and E-commerce\n",
      "Abstract: {'h1': 'Abstract', 'p': 'Existing Web session tracking techniques mainly work on huge web server log files, which limit their dynamicity and capability. We present a collaborative method for session tracking to identify direct and indirect web server interactions. The outcome could lead to building partnerships between organizations that do e-business, adapting links on websites to user click behavior, and deciding on the particular services offered by websites. We implemented a prototype that showed the usefulness and effectiveness of the system. We describe the significance and applications of our approach in e-commerce through information that describes traffic flows between websites.'}\n",
      "\n",
      "DOI: doi:10.1186/s40537-015-0029-9\n",
      "Title: Survey of review spam detection using machine learning techniques\n",
      "Abstract: {'h1': 'Abstract', 'p': 'Online reviews are often the primary factor in a customer’s decision to purchase a product or service, and are a valuable source of information that can be used to determine public opinion on these products or services. Because of their impact, manufacturers and retailers are highly concerned with customer feedback and reviews. Reliance on online reviews gives rise to the potential concern that wrongdoers may create false reviews to artificially promote or devalue products and services. This practice is known as Opinion (Review) Spam, where spammers manipulate and poison reviews (i.e., making fake, untruthful, or deceptive reviews) for profit or gain. Since not all online reviews are truthful and trustworthy, it is important to develop techniques for detecting review spam. By extracting meaningful features from the text using Natural Language Processing (NLP), it is possible to conduct review spam detection using various machine learning techniques. Additionally, reviewer information, apart from the text itself, can be used to aid in this process. In this paper, we survey the prominent machine learning techniques that have been proposed to solve the problem of review spam detection and the performance of different approaches for classification and detection of review spam. The majority of current research has focused on supervised learning methods, which require labeled data, a scarcity when it comes to online review spam. Research on methods for Big Data are of interest, since there are millions of online reviews, with many more being generated daily. To date, we have not found any papers that study the effects of Big Data analytics for review spam detection. The primary goal of this paper is to provide a strong and comprehensive comparative study of current research on detecting review spam using various machine learning techniques and to devise methodology for conducting further investigation.'}\n",
      "\n",
      "DOI: doi:10.1007/s11192-014-1434-0\n",
      "Title: Use of web mining in studying innovation\n",
      "Abstract: {'h1': 'Abstract', 'p': 'As enterprises expand and post increasing information about their business activities on their websites, website data promises to be a valuable source for investigating innovation. This article examines the practicalities and effectiveness of web mining as a research method for innovation studies. We use web mining to explore the R&D activities of 296 UK-based green goods small and mid-size enterprises. We find that website data offers additional insights when compared with other traditional unobtrusive research methods, such as patent and publication analysis. We examine the strengths and limitations of enterprise innovation web mining in terms of a wide range of data quality dimensions, including accuracy, completeness, currency, quantity, flexibility and accessibility. We observe that far more companies in our sample report undertaking R&D activities on their web sites than would be suggested by looking only at conventional data sources. While traditional methods offer information about the early phases of R&D and invention through publications and patents, web mining offers insights that are more downstream in the innovation process. Handling website data is not as easy as alternative data sources, and care needs to be taken in executing search strategies. Website information is also self-reported and companies may vary in their motivations for posting (or not posting) information about their activities on websites. Nonetheless, we find that web mining is a significant and useful complement to current methods, as well as offering novel insights not easily obtained from other unobtrusive sources.'}\n",
      "\n",
      "DOI: doi:10.1186/1678-4804-20-11\n",
      "Title: A data warehouse to support web site automation\n",
      "Abstract: {'h1': 'Abstract', 'p': ['Background', 'Due to the constant demand for new information and timely updates of services and content in order to satisfy the user’s needs, web site automation has emerged as a solution to automate several personalization and management activities of a web site. One goal of automation is the reduction of the editor’s effort and consequently of the costs for the owner. The other goal is that the site can more timely adapt to the behavior of the user, improving the browsing experience and helping the user in achieving his/her own goals.', 'Methods', 'A database to store rich web data is an essential component for web site automation. In this paper, we propose a data warehouse that is developed to be a repository of information to support different web site automation and monitoring activities. We implemented our data warehouse and used it as a repository of information in three different case studies related to the areas of e-commerce, e-learning, and e-news.', 'Result', 'The case studies showed that our data warehouse is appropriate for web site automation in different contexts.', 'Conclusion', 'In all cases, the use of the data warehouse was quite simple and with a good response time, mainly because of the simplicity of its structure.']}\n",
      "\n"
     ]
    }
   ],
   "source": [
    "# print dataframe\n",
    "try:\n",
    "    df = results_to_dataframe(response, export_to_excel=False)\n",
    "    for row in df.itertuples(index=False):\n",
    "        doi = row.identifier\n",
    "        title = row.title\n",
    "        abstract = row.abstract\n",
    "        print(f\"DOI: {doi}\")\n",
    "        print(f\"Title: {title}\")\n",
    "        print(f\"Abstract: {abstract}\\n\")\n",
    "except NameError:\n",
    "    pass"
   ]
  },
  {
   "cell_type": "code",
   "execution_count": null,
   "id": "4421fdae",
   "metadata": {},
   "outputs": [],
   "source": [
    "# menyimpan ke csv\n",
    "df.to_csv(\"csv/webmining-journal.csv\", index=False)\n"
   ]
  },
  {
   "cell_type": "markdown",
   "id": "6f9f3d30",
   "metadata": {},
   "source": [
    "### Keyword: web usage mining"
   ]
  },
  {
   "cell_type": "code",
   "execution_count": 18,
   "id": "f3cd34aa",
   "metadata": {},
   "outputs": [
    {
     "name": "stderr",
     "output_type": "stream",
     "text": [
      "2025-08-28 11:03:02,847 - INFO - Making request to: https://api.springernature.com/openaccess/json with params: {'q': 'keyword:\"web usage mining\"', 'p': 10, 's': 1, 'api_key': '4547aeced20ed62be02d26e533f1021a'}\n"
     ]
    },
    {
     "name": "stdout",
     "output_type": "stream",
     "text": [
      "Fetching openaccess: query='keyword:\"web usage mining\"', page=10, start=1\n"
     ]
    }
   ],
   "source": [
    "response = openaccess_client.search(q='keyword:\"web usage mining\"', p=10, s=1, fetch_all=False, is_premium=False)"
   ]
  },
  {
   "cell_type": "code",
   "execution_count": 20,
   "id": "3825cd2c",
   "metadata": {},
   "outputs": [
    {
     "name": "stdout",
     "output_type": "stream",
     "text": [
      "DOI: doi:10.1007/s00799-024-00397-2\n",
      "Title: Robots still outnumber humans in web archives in 2019, but less than in 2015 and 2012\n",
      "Abstract: {'h1': 'Abstract', 'p': 'The significance of the web and the crucial role of web archives in its preservation highlight the necessity of understanding how users, both human and robot, access web archive content, and how best to satisfy this disparate needs of both types of users. To identify robots and humans in web archives and analyze their respective access patterns, we used the Internet Archive’s (IA) Wayback Machine access logs from 2012, 2015, and 2019, as well as Arquivo.pt’s (Portuguese Web Archive) access logs from 2019. We identified user sessions in the access logs and classified those sessions as human or robot based on their browsing behavior. To better understand how users navigate through the web archives, we evaluated these sessions to discover user access patterns. Based on the two archives and between the three years of IA access logs (2012 vs. 2015 vs. 2019), we present a comparison of detected robots vs. humans and their user access patterns and temporal preferences. The total number of robots detected in IA 2012 (91% of requests) and IA 2015 (88% of requests) is greater than in IA 2019 (70% of requests). Robots account for 98% of requests in Arquivo.pt (2019). We found that the robots are almost entirely limited to “Dip” and “Skim” access patterns in IA 2012 and 2015, but exhibit all the patterns and their combinations in IA 2019. Both humans and robots show a preference for web pages archived in the near past.'}\n",
      "\n",
      "DOI: doi:10.1007/s10257-016-0329-4\n",
      "Title: Using association rules to assess purchase probability in online stores\n",
      "Abstract: {'h1': 'Abstract', 'p': 'The paper addresses the problem of e-customer behavior characterization based on Web server log data. We describe user sessions with the number of session features and aim to identify the features indicating a high probability of making a purchase for two customer groups: traditional customers and innovative customers. We discuss our approach aimed at assessing a purchase probability in a user session depending on categories of viewed products and session features. We apply association rule mining to real online bookstore data. The results show differences in factors indicating a high purchase probability in session for both customer types. The discovered association rules allow us to formulate some predictions for the online store, e.g. that a logged user who has viewed only traditional, printed books, has been staying in the store from 10 to 25\\xa0min, and has opened between 30 and 75 pages, will decide to confirm a purchase with the probability of more than 92\\xa0%.'}\n",
      "\n",
      "DOI: doi:10.1186/s12911-017-0440-6\n",
      "Title: Health care public reporting utilization – user clusters, web trails, and usage barriers on Germany’s public reporting portal Weisse-Liste.de\n",
      "                  \n",
      "Abstract: {'h1': 'Abstract', 'p': ['Background', 'Quality of care public reporting provides structural, process and outcome information to facilitate hospital choice and strengthen quality competition. Yet, evidence indicates that patients rarely use this information in their decision-making, due to limited awareness of the data and complex and conflicting information. While there is enthusiasm among policy makers for public reporting, clinicians and researchers doubt its overall impact. Almost no study has analyzed how users behave on public reporting portals, which information they seek out and when they abort their search.', 'Methods', 'This study employs web-usage mining techniques on server log data of 17 million user actions from Germany’s premier provider transparency portal Weisse-Liste.de ( WL.de ) between 2012 and 2015. Postal code and ICD search requests facilitate identification of geographical and treatment area usage patterns. User clustering helps to identify user types based on parameters like session length, referrer and page topic visited. First-level markov chains illustrate common click paths and premature exits.', 'Results', 'In 2015, the WL.de Hospital Search portal had 2,750 daily users, with 25% mobile traffic, a bounce rate of 38% and 48% of users examining hospital quality information. From 2013 to 2015, user traffic grew at 38% annually. On average users spent 7\\xa0min on the portal, with 7.4 clicks and 54\\xa0s between clicks. Users request information for many oncologic and orthopedic conditions, for which no process or outcome quality indicators are available. Ten distinct user types, with particular usage patterns and interests, are identified. In particular, the different types of professional and non-professional users need to be addressed differently to avoid high premature exit rates at several key steps in the information search and view process. Of all users, 37% enter hospital information correctly upon entry, while 47% require support in their hospital search.', 'Conclusions', 'Several onsite and offsite improvement options are identified. Public reporting needs to be directed at the interests of its users, with more outcome quality information for oncology and orthopedics. Customized reporting can cater to the different needs and skill levels of professional and non-professional users. Search engine optimization and hospital quality advocacy can increase website traffic.']}\n",
      "\n",
      "DOI: doi:10.7238/rusc.v11i1.1902\n",
      "Title: M-learning patterns in the virtual classroom\n",
      "Abstract: {'h1': 'Abstract', 'p': 'Mobile devices are everywhere to be found on university campuses. This has changed the nature of higher education and led to a new mobile form of e-learning known as m-learning. The aim of this article is to assess the penetration of mobile devices for learning purposes in higher education and to identify the main usage patterns. To that end, the study used two complementary methodologies: web usage mining and a questionnaire survey. Web usage mining was performed to collect data from the university’s learning management system (LMS) in order to explore this new technology’s usage trends in the past four academic years and to identify the main patterns of behaviour. A questionnaire survey of 460 university students was conducted to find out about the student-declared level of m-learning penetration. The results are conclusive: 25% of accesses to the LMS were made from mobile devices and 75% of the students used these devices for learning purposes. The findings of this study have significant implications not only for researchers and lecturers, but also for institutions intending to implement this teaching/learning methodology.'}\n",
      "\n",
      "DOI: doi:10.2991/ijcis.2011.4.5.29\n",
      "Title: Identifying Web Users on the Base of their Browsing Patterns\n",
      "Abstract: {'h1': 'Abstract', 'p': 'Our aim is to develop methodology for recognition of Internet portal users on the base of their browsing patterns. This is a classification task in which we have thousands values of decision attribute and objects are described by means of sequences of symbols. We develop feature selectors which make our task tractable. Since the behaviour usually does not distinguish users, we introduce user profiles which are clusters of indiscernible users. Then, we construct classifiers which assign descriptions of user behaviour to user profiles. We also derive quality measures specific for our task.'}\n",
      "\n"
     ]
    }
   ],
   "source": [
    "# print dataframe\n",
    "df = results_to_dataframe(response, export_to_excel=False)\n",
    "for row in df.itertuples(index=False):\n",
    "    doi = row.identifier\n",
    "    title = row.title\n",
    "    abstract = row.abstract\n",
    "    print(f\"DOI: {doi}\")\n",
    "    print(f\"Title: {title}\")\n",
    "    print(f\"Abstract: {abstract}\\n\")"
   ]
  },
  {
   "cell_type": "code",
   "execution_count": 24,
   "id": "0e1e668b",
   "metadata": {},
   "outputs": [],
   "source": [
    "# menyimpan ke csv\n",
    "df.to_csv(\"csv/webmiusagemining-journal.csv\", index=False)"
   ]
  },
  {
   "cell_type": "markdown",
   "id": "d78555d7",
   "metadata": {},
   "source": [
    "### Keyword: web content mining"
   ]
  },
  {
   "cell_type": "code",
   "execution_count": 23,
   "id": "e29efd20",
   "metadata": {},
   "outputs": [
    {
     "name": "stderr",
     "output_type": "stream",
     "text": [
      "2025-08-28 11:03:59,875 - INFO - Making request to: https://api.springernature.com/openaccess/json with params: {'q': 'keyword:\"web content mining\"', 'p': 10, 's': 1, 'api_key': '4547aeced20ed62be02d26e533f1021a'}\n"
     ]
    },
    {
     "name": "stdout",
     "output_type": "stream",
     "text": [
      "Fetching openaccess: query='keyword:\"web content mining\"', page=10, start=1\n"
     ]
    }
   ],
   "source": [
    "response = openaccess_client.search(q='keyword:\"web content mining\"', p=10, s=1, fetch_all=False, is_premium=False)"
   ]
  },
  {
   "cell_type": "code",
   "execution_count": 25,
   "id": "f92d933f",
   "metadata": {},
   "outputs": [
    {
     "name": "stdout",
     "output_type": "stream",
     "text": [
      "DOI: doi:10.1007/978-3-030-65785-7_5\n",
      "Title: Assessing Online Sustainability Communication of Italian Cultural Destinations – A Web Content Mining Approach\n",
      "Abstract: {'h1': 'Abstract', 'p': 'Online sustainability communication attracts a considerable attention in tourism research. This study focuses on sustainability communication in official destination websites for informing and motivating visitors to adopt sustainable practices and behaviors. To advance previous research in this area, it adopts a web content mining approach to assess the characteristics of online contents of a sample of 20 Italian cultural destinations. The main dimensions and typologies of sustainability-oriented practices in tourism are used as basis to develop a text classifier for the automated content analysis. A total of 2.975 web pages from official city websites and official tourism promotion websites of the destinations is analyzed through this approach to investigate the online contents relating to the environmental, economic, socio-cultural and general dimensions sustainability as well as their emotional appeal. The analysis reveals that about 15.8% of total online texts contains information to promote sustainability-oriented behaviors at the destination. It indicates that the communication is more specifically focused on environmental/economic/socio-cultural practices than generically referring to sustainable/responsible tourism. However, in line with previous research, it highlights that destinations do not sufficiently balance these pillars in their online communication. Further, the websites’ texts scarcely leverage the persuasive potential of affective appealing messages. The implications of this automated approach for improving the design of online sustainability-related contents are also discussed.'}\n",
      "\n",
      "DOI: doi:10.1007/s11051-016-3572-1\n",
      "Title: Graphene enterprise: mapping innovation and business development in a strategic emerging technology\n",
      "Abstract: {'h1': 'Abstract', 'p': 'This paper explores enterprise development and commercialization in the field of graphene. Firm characteristics and relationships, value chain positioning, and factors associated with product entry are examined for a set of 65 graphene-oriented small and medium-sized enterprises located in 16 different countries. As well as secondary sources and bibliometric methods to profile developments in graphene, we use computerized data mining and analytical techniques, including cluster and regression modeling, to identify patterns from publicly available online information on enterprise web sites. We identify groups of graphene small and medium-sized enterprises differentiated by how they are involved with graphene, the materials they target, whether they make equipment, and their orientation toward science and intellectual property. In general, access to finance and the firms’ location are significant factors that are associated with graphene product introductions. We also find that patents and scientific publications are not statistically significant predictors of product development in our sample of graphene enterprises. We further identify a cohort of graphene-oriented firms that are signaling plans to develop intermediate graphene products that should have higher value in the marketplace. Our findings suggest that policy needs to ensure attention to the introduction and scale-up of downstream intermediate and final graphene products and associated financial, intermediary, and market identification support. The paper demonstrates novel data methods that can be combined with existing information for real-time intelligence to understand and map enterprise development and commercialization in a rapidly emerging and growing new technology.'}\n",
      "\n"
     ]
    }
   ],
   "source": [
    "# print dataframe\n",
    "df = results_to_dataframe(response, export_to_excel=False)\n",
    "for row in df.itertuples(index=False):\n",
    "    doi = row.identifier\n",
    "    title = row.title\n",
    "    abstract = row.abstract\n",
    "    print(f\"DOI: {doi}\")\n",
    "    print(f\"Title: {title}\")\n",
    "    print(f\"Abstract: {abstract}\\n\")"
   ]
  },
  {
   "cell_type": "code",
   "execution_count": 26,
   "id": "efd04c21",
   "metadata": {},
   "outputs": [],
   "source": [
    "df.to_csv(\"csv/web-content-mining-journal.csv\", index=False)\n"
   ]
  },
  {
   "cell_type": "markdown",
   "id": "e7bcbce1",
   "metadata": {},
   "source": [
    "### Menampilkan csv"
   ]
  },
  {
   "cell_type": "code",
   "execution_count": 28,
   "id": "c31cf437",
   "metadata": {},
   "outputs": [
    {
     "data": {
      "text/html": [
       "<div>\n",
       "<style scoped>\n",
       "    .dataframe tbody tr th:only-of-type {\n",
       "        vertical-align: middle;\n",
       "    }\n",
       "\n",
       "    .dataframe tbody tr th {\n",
       "        vertical-align: top;\n",
       "    }\n",
       "\n",
       "    .dataframe thead th {\n",
       "        text-align: right;\n",
       "    }\n",
       "</style>\n",
       "<table border=\"1\" class=\"dataframe\">\n",
       "  <thead>\n",
       "    <tr style=\"text-align: right;\">\n",
       "      <th></th>\n",
       "      <th>identifier</th>\n",
       "      <th>title</th>\n",
       "      <th>abstract</th>\n",
       "    </tr>\n",
       "  </thead>\n",
       "  <tbody>\n",
       "    <tr>\n",
       "      <th>0</th>\n",
       "      <td>doi:10.1007/s41060-023-00483-9</td>\n",
       "      <td>Artificial intelligence trend analysis in Germ...</td>\n",
       "      <td>{'h1': 'Abstract', 'p': 'Current research on t...</td>\n",
       "    </tr>\n",
       "    <tr>\n",
       "      <th>1</th>\n",
       "      <td>doi:10.1007/s11135-024-01978-8</td>\n",
       "      <td>Information diffusion in referral networks: an...</td>\n",
       "      <td>{'h1': 'Abstract', 'p': 'In the last decades, ...</td>\n",
       "    </tr>\n",
       "    <tr>\n",
       "      <th>2</th>\n",
       "      <td>doi:10.1007/s41060-024-00695-7</td>\n",
       "      <td>Mapping sustainable development goals to citiz...</td>\n",
       "      <td>{'h1': 'Abstract', 'p': 'Traditional data sour...</td>\n",
       "    </tr>\n",
       "    <tr>\n",
       "      <th>3</th>\n",
       "      <td>doi:10.1007/s13132-023-01587-0</td>\n",
       "      <td>Measuring Innovation in Mauritius’ ICT Sector\\...</td>\n",
       "      <td>{'h1': 'Abstract', 'p': 'Measuring innovation ...</td>\n",
       "    </tr>\n",
       "    <tr>\n",
       "      <th>4</th>\n",
       "      <td>doi:10.1007/s12065-023-00878-4</td>\n",
       "      <td>Artificial intelligence trend analysis on heal...</td>\n",
       "      <td>{'h1': 'Abstract', 'p': 'Over the past few dec...</td>\n",
       "    </tr>\n",
       "  </tbody>\n",
       "</table>\n",
       "</div>"
      ],
      "text/plain": [
       "                       identifier  \\\n",
       "0  doi:10.1007/s41060-023-00483-9   \n",
       "1  doi:10.1007/s11135-024-01978-8   \n",
       "2  doi:10.1007/s41060-024-00695-7   \n",
       "3  doi:10.1007/s13132-023-01587-0   \n",
       "4  doi:10.1007/s12065-023-00878-4   \n",
       "\n",
       "                                               title  \\\n",
       "0  Artificial intelligence trend analysis in Germ...   \n",
       "1  Information diffusion in referral networks: an...   \n",
       "2  Mapping sustainable development goals to citiz...   \n",
       "3  Measuring Innovation in Mauritius’ ICT Sector\\...   \n",
       "4  Artificial intelligence trend analysis on heal...   \n",
       "\n",
       "                                            abstract  \n",
       "0  {'h1': 'Abstract', 'p': 'Current research on t...  \n",
       "1  {'h1': 'Abstract', 'p': 'In the last decades, ...  \n",
       "2  {'h1': 'Abstract', 'p': 'Traditional data sour...  \n",
       "3  {'h1': 'Abstract', 'p': 'Measuring innovation ...  \n",
       "4  {'h1': 'Abstract', 'p': 'Over the past few dec...  "
      ]
     },
     "execution_count": 28,
     "metadata": {},
     "output_type": "execute_result"
    }
   ],
   "source": [
    "import pandas as pd\n",
    "df = pd.read_csv(\"csv/webmining-journal.csv\")\n",
    "df[['identifier', 'title', 'abstract']].head()"
   ]
  },
  {
   "cell_type": "code",
   "execution_count": 29,
   "id": "4f0c84a3",
   "metadata": {},
   "outputs": [
    {
     "data": {
      "text/html": [
       "<div>\n",
       "<style scoped>\n",
       "    .dataframe tbody tr th:only-of-type {\n",
       "        vertical-align: middle;\n",
       "    }\n",
       "\n",
       "    .dataframe tbody tr th {\n",
       "        vertical-align: top;\n",
       "    }\n",
       "\n",
       "    .dataframe thead th {\n",
       "        text-align: right;\n",
       "    }\n",
       "</style>\n",
       "<table border=\"1\" class=\"dataframe\">\n",
       "  <thead>\n",
       "    <tr style=\"text-align: right;\">\n",
       "      <th></th>\n",
       "      <th>identifier</th>\n",
       "      <th>title</th>\n",
       "      <th>abstract</th>\n",
       "    </tr>\n",
       "  </thead>\n",
       "  <tbody>\n",
       "    <tr>\n",
       "      <th>0</th>\n",
       "      <td>doi:10.1007/978-3-030-65785-7_5</td>\n",
       "      <td>Assessing Online Sustainability Communication ...</td>\n",
       "      <td>{'h1': 'Abstract', 'p': 'Online sustainability...</td>\n",
       "    </tr>\n",
       "    <tr>\n",
       "      <th>1</th>\n",
       "      <td>doi:10.1007/s11051-016-3572-1</td>\n",
       "      <td>Graphene enterprise: mapping innovation and bu...</td>\n",
       "      <td>{'h1': 'Abstract', 'p': 'This paper explores e...</td>\n",
       "    </tr>\n",
       "  </tbody>\n",
       "</table>\n",
       "</div>"
      ],
      "text/plain": [
       "                        identifier  \\\n",
       "0  doi:10.1007/978-3-030-65785-7_5   \n",
       "1    doi:10.1007/s11051-016-3572-1   \n",
       "\n",
       "                                               title  \\\n",
       "0  Assessing Online Sustainability Communication ...   \n",
       "1  Graphene enterprise: mapping innovation and bu...   \n",
       "\n",
       "                                            abstract  \n",
       "0  {'h1': 'Abstract', 'p': 'Online sustainability...  \n",
       "1  {'h1': 'Abstract', 'p': 'This paper explores e...  "
      ]
     },
     "execution_count": 29,
     "metadata": {},
     "output_type": "execute_result"
    }
   ],
   "source": [
    "df = pd.read_csv(\"csv/web-content-mining-journal.csv\")\n",
    "df[['identifier', 'title', 'abstract']].head()"
   ]
  },
  {
   "cell_type": "code",
   "execution_count": 30,
   "id": "7f43aaa3",
   "metadata": {},
   "outputs": [
    {
     "data": {
      "text/html": [
       "<div>\n",
       "<style scoped>\n",
       "    .dataframe tbody tr th:only-of-type {\n",
       "        vertical-align: middle;\n",
       "    }\n",
       "\n",
       "    .dataframe tbody tr th {\n",
       "        vertical-align: top;\n",
       "    }\n",
       "\n",
       "    .dataframe thead th {\n",
       "        text-align: right;\n",
       "    }\n",
       "</style>\n",
       "<table border=\"1\" class=\"dataframe\">\n",
       "  <thead>\n",
       "    <tr style=\"text-align: right;\">\n",
       "      <th></th>\n",
       "      <th>identifier</th>\n",
       "      <th>title</th>\n",
       "      <th>abstract</th>\n",
       "    </tr>\n",
       "  </thead>\n",
       "  <tbody>\n",
       "    <tr>\n",
       "      <th>0</th>\n",
       "      <td>doi:10.1007/s00799-024-00397-2</td>\n",
       "      <td>Robots still outnumber humans in web archives ...</td>\n",
       "      <td>{'h1': 'Abstract', 'p': 'The significance of t...</td>\n",
       "    </tr>\n",
       "    <tr>\n",
       "      <th>1</th>\n",
       "      <td>doi:10.1007/s10257-016-0329-4</td>\n",
       "      <td>Using association rules to assess purchase pro...</td>\n",
       "      <td>{'h1': 'Abstract', 'p': 'The paper addresses t...</td>\n",
       "    </tr>\n",
       "    <tr>\n",
       "      <th>2</th>\n",
       "      <td>doi:10.1186/s12911-017-0440-6</td>\n",
       "      <td>Health care public reporting utilization – use...</td>\n",
       "      <td>{'h1': 'Abstract', 'p': ['Background', 'Qualit...</td>\n",
       "    </tr>\n",
       "    <tr>\n",
       "      <th>3</th>\n",
       "      <td>doi:10.7238/rusc.v11i1.1902</td>\n",
       "      <td>M-learning patterns in the virtual classroom</td>\n",
       "      <td>{'h1': 'Abstract', 'p': 'Mobile devices are ev...</td>\n",
       "    </tr>\n",
       "    <tr>\n",
       "      <th>4</th>\n",
       "      <td>doi:10.2991/ijcis.2011.4.5.29</td>\n",
       "      <td>Identifying Web Users on the Base of their Bro...</td>\n",
       "      <td>{'h1': 'Abstract', 'p': 'Our aim is to develop...</td>\n",
       "    </tr>\n",
       "  </tbody>\n",
       "</table>\n",
       "</div>"
      ],
      "text/plain": [
       "                       identifier  \\\n",
       "0  doi:10.1007/s00799-024-00397-2   \n",
       "1   doi:10.1007/s10257-016-0329-4   \n",
       "2   doi:10.1186/s12911-017-0440-6   \n",
       "3     doi:10.7238/rusc.v11i1.1902   \n",
       "4   doi:10.2991/ijcis.2011.4.5.29   \n",
       "\n",
       "                                               title  \\\n",
       "0  Robots still outnumber humans in web archives ...   \n",
       "1  Using association rules to assess purchase pro...   \n",
       "2  Health care public reporting utilization – use...   \n",
       "3       M-learning patterns in the virtual classroom   \n",
       "4  Identifying Web Users on the Base of their Bro...   \n",
       "\n",
       "                                            abstract  \n",
       "0  {'h1': 'Abstract', 'p': 'The significance of t...  \n",
       "1  {'h1': 'Abstract', 'p': 'The paper addresses t...  \n",
       "2  {'h1': 'Abstract', 'p': ['Background', 'Qualit...  \n",
       "3  {'h1': 'Abstract', 'p': 'Mobile devices are ev...  \n",
       "4  {'h1': 'Abstract', 'p': 'Our aim is to develop...  "
      ]
     },
     "execution_count": 30,
     "metadata": {},
     "output_type": "execute_result"
    }
   ],
   "source": [
    "df = pd.read_csv(\"csv/webmiusagemining-journal.csv\")\n",
    "df[['identifier', 'title', 'abstract']].head()"
   ]
  }
 ],
 "metadata": {
  "kernelspec": {
   "display_name": "Python 3 (ipykernel)",
   "language": "python",
   "name": "python3"
  },
  "language_info": {
   "codemirror_mode": {
    "name": "ipython",
    "version": 3
   },
   "file_extension": ".py",
   "mimetype": "text/x-python",
   "name": "python",
   "nbconvert_exporter": "python",
   "pygments_lexer": "ipython3",
   "version": "3.11.5"
  }
 },
 "nbformat": 4,
 "nbformat_minor": 5
}
